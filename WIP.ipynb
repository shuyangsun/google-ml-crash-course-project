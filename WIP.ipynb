{
 "cells": [
  {
   "cell_type": "code",
   "execution_count": 1,
   "metadata": {},
   "outputs": [],
   "source": [
    "import matplotlib.pyplot as plt\n",
    "import numpy as np\n",
    "import pandas as pd\n",
    "import tensorflow as tf\n",
    "from tensorflow.contrib.learn.python.learn import learn_io\n",
    "import math\n",
    "from sklearn import metrics\n",
    "tf.logging.set_verbosity(tf.logging.ERROR)"
   ]
  },
  {
   "cell_type": "code",
   "execution_count": 2,
   "metadata": {},
   "outputs": [
    {
     "data": {
      "text/html": [
       "<div>\n",
       "<style>\n",
       "    .dataframe thead tr:only-child th {\n",
       "        text-align: right;\n",
       "    }\n",
       "\n",
       "    .dataframe thead th {\n",
       "        text-align: left;\n",
       "    }\n",
       "\n",
       "    .dataframe tbody tr th {\n",
       "        vertical-align: top;\n",
       "    }\n",
       "</style>\n",
       "<table border=\"1\" class=\"dataframe\">\n",
       "  <thead>\n",
       "    <tr style=\"text-align: right;\">\n",
       "      <th></th>\n",
       "      <th>color</th>\n",
       "      <th>director_name</th>\n",
       "      <th>num_critic_for_reviews</th>\n",
       "      <th>duration</th>\n",
       "      <th>director_facebook_likes</th>\n",
       "      <th>actor_3_facebook_likes</th>\n",
       "      <th>actor_2_name</th>\n",
       "      <th>actor_1_facebook_likes</th>\n",
       "      <th>gross</th>\n",
       "      <th>genres</th>\n",
       "      <th>...</th>\n",
       "      <th>num_user_for_reviews</th>\n",
       "      <th>language</th>\n",
       "      <th>country</th>\n",
       "      <th>content_rating</th>\n",
       "      <th>budget</th>\n",
       "      <th>title_year</th>\n",
       "      <th>actor_2_facebook_likes</th>\n",
       "      <th>imdb_score</th>\n",
       "      <th>aspect_ratio</th>\n",
       "      <th>movie_facebook_likes</th>\n",
       "    </tr>\n",
       "  </thead>\n",
       "  <tbody>\n",
       "    <tr>\n",
       "      <th>0</th>\n",
       "      <td>Color</td>\n",
       "      <td>James Cameron</td>\n",
       "      <td>723.0</td>\n",
       "      <td>178.0</td>\n",
       "      <td>0.0</td>\n",
       "      <td>855.0</td>\n",
       "      <td>Joel David Moore</td>\n",
       "      <td>1000.0</td>\n",
       "      <td>760505847.0</td>\n",
       "      <td>Action|Adventure|Fantasy|Sci-Fi</td>\n",
       "      <td>...</td>\n",
       "      <td>3054.0</td>\n",
       "      <td>English</td>\n",
       "      <td>USA</td>\n",
       "      <td>PG-13</td>\n",
       "      <td>237000000.0</td>\n",
       "      <td>2009.0</td>\n",
       "      <td>936.0</td>\n",
       "      <td>7.9</td>\n",
       "      <td>1.78</td>\n",
       "      <td>33000</td>\n",
       "    </tr>\n",
       "    <tr>\n",
       "      <th>1</th>\n",
       "      <td>Color</td>\n",
       "      <td>Gore Verbinski</td>\n",
       "      <td>302.0</td>\n",
       "      <td>169.0</td>\n",
       "      <td>563.0</td>\n",
       "      <td>1000.0</td>\n",
       "      <td>Orlando Bloom</td>\n",
       "      <td>40000.0</td>\n",
       "      <td>309404152.0</td>\n",
       "      <td>Action|Adventure|Fantasy</td>\n",
       "      <td>...</td>\n",
       "      <td>1238.0</td>\n",
       "      <td>English</td>\n",
       "      <td>USA</td>\n",
       "      <td>PG-13</td>\n",
       "      <td>300000000.0</td>\n",
       "      <td>2007.0</td>\n",
       "      <td>5000.0</td>\n",
       "      <td>7.1</td>\n",
       "      <td>2.35</td>\n",
       "      <td>0</td>\n",
       "    </tr>\n",
       "    <tr>\n",
       "      <th>2</th>\n",
       "      <td>Color</td>\n",
       "      <td>Sam Mendes</td>\n",
       "      <td>602.0</td>\n",
       "      <td>148.0</td>\n",
       "      <td>0.0</td>\n",
       "      <td>161.0</td>\n",
       "      <td>Rory Kinnear</td>\n",
       "      <td>11000.0</td>\n",
       "      <td>200074175.0</td>\n",
       "      <td>Action|Adventure|Thriller</td>\n",
       "      <td>...</td>\n",
       "      <td>994.0</td>\n",
       "      <td>English</td>\n",
       "      <td>UK</td>\n",
       "      <td>PG-13</td>\n",
       "      <td>245000000.0</td>\n",
       "      <td>2015.0</td>\n",
       "      <td>393.0</td>\n",
       "      <td>6.8</td>\n",
       "      <td>2.35</td>\n",
       "      <td>85000</td>\n",
       "    </tr>\n",
       "    <tr>\n",
       "      <th>3</th>\n",
       "      <td>Color</td>\n",
       "      <td>Christopher Nolan</td>\n",
       "      <td>813.0</td>\n",
       "      <td>164.0</td>\n",
       "      <td>22000.0</td>\n",
       "      <td>23000.0</td>\n",
       "      <td>Christian Bale</td>\n",
       "      <td>27000.0</td>\n",
       "      <td>448130642.0</td>\n",
       "      <td>Action|Thriller</td>\n",
       "      <td>...</td>\n",
       "      <td>2701.0</td>\n",
       "      <td>English</td>\n",
       "      <td>USA</td>\n",
       "      <td>PG-13</td>\n",
       "      <td>250000000.0</td>\n",
       "      <td>2012.0</td>\n",
       "      <td>23000.0</td>\n",
       "      <td>8.5</td>\n",
       "      <td>2.35</td>\n",
       "      <td>164000</td>\n",
       "    </tr>\n",
       "    <tr>\n",
       "      <th>4</th>\n",
       "      <td>NaN</td>\n",
       "      <td>Doug Walker</td>\n",
       "      <td>NaN</td>\n",
       "      <td>NaN</td>\n",
       "      <td>131.0</td>\n",
       "      <td>NaN</td>\n",
       "      <td>Rob Walker</td>\n",
       "      <td>131.0</td>\n",
       "      <td>NaN</td>\n",
       "      <td>Documentary</td>\n",
       "      <td>...</td>\n",
       "      <td>NaN</td>\n",
       "      <td>NaN</td>\n",
       "      <td>NaN</td>\n",
       "      <td>NaN</td>\n",
       "      <td>NaN</td>\n",
       "      <td>NaN</td>\n",
       "      <td>12.0</td>\n",
       "      <td>7.1</td>\n",
       "      <td>NaN</td>\n",
       "      <td>0</td>\n",
       "    </tr>\n",
       "  </tbody>\n",
       "</table>\n",
       "<p>5 rows × 28 columns</p>\n",
       "</div>"
      ],
      "text/plain": [
       "   color      director_name  num_critic_for_reviews  duration  \\\n",
       "0  Color      James Cameron                   723.0     178.0   \n",
       "1  Color     Gore Verbinski                   302.0     169.0   \n",
       "2  Color         Sam Mendes                   602.0     148.0   \n",
       "3  Color  Christopher Nolan                   813.0     164.0   \n",
       "4    NaN        Doug Walker                     NaN       NaN   \n",
       "\n",
       "   director_facebook_likes  actor_3_facebook_likes      actor_2_name  \\\n",
       "0                      0.0                   855.0  Joel David Moore   \n",
       "1                    563.0                  1000.0     Orlando Bloom   \n",
       "2                      0.0                   161.0      Rory Kinnear   \n",
       "3                  22000.0                 23000.0    Christian Bale   \n",
       "4                    131.0                     NaN        Rob Walker   \n",
       "\n",
       "   actor_1_facebook_likes        gross                           genres  \\\n",
       "0                  1000.0  760505847.0  Action|Adventure|Fantasy|Sci-Fi   \n",
       "1                 40000.0  309404152.0         Action|Adventure|Fantasy   \n",
       "2                 11000.0  200074175.0        Action|Adventure|Thriller   \n",
       "3                 27000.0  448130642.0                  Action|Thriller   \n",
       "4                   131.0          NaN                      Documentary   \n",
       "\n",
       "          ...          num_user_for_reviews language  country  content_rating  \\\n",
       "0         ...                        3054.0  English      USA           PG-13   \n",
       "1         ...                        1238.0  English      USA           PG-13   \n",
       "2         ...                         994.0  English       UK           PG-13   \n",
       "3         ...                        2701.0  English      USA           PG-13   \n",
       "4         ...                           NaN      NaN      NaN             NaN   \n",
       "\n",
       "        budget  title_year actor_2_facebook_likes imdb_score  aspect_ratio  \\\n",
       "0  237000000.0      2009.0                  936.0        7.9          1.78   \n",
       "1  300000000.0      2007.0                 5000.0        7.1          2.35   \n",
       "2  245000000.0      2015.0                  393.0        6.8          2.35   \n",
       "3  250000000.0      2012.0                23000.0        8.5          2.35   \n",
       "4          NaN         NaN                   12.0        7.1           NaN   \n",
       "\n",
       "  movie_facebook_likes  \n",
       "0                33000  \n",
       "1                    0  \n",
       "2                85000  \n",
       "3               164000  \n",
       "4                    0  \n",
       "\n",
       "[5 rows x 28 columns]"
      ]
     },
     "execution_count": 2,
     "metadata": {},
     "output_type": "execute_result"
    }
   ],
   "source": [
    "df = pd.read_csv('/Users/henry/Downloads/movie_metadata.csv', sep=',', quotechar='\"')\n",
    "df.head()"
   ]
  },
  {
   "cell_type": "code",
   "execution_count": 3,
   "metadata": {},
   "outputs": [
    {
     "data": {
      "text/plain": [
       "(5043, 28)"
      ]
     },
     "execution_count": 3,
     "metadata": {},
     "output_type": "execute_result"
    }
   ],
   "source": [
    "df.shape"
   ]
  },
  {
   "cell_type": "code",
   "execution_count": 4,
   "metadata": {},
   "outputs": [
    {
     "data": {
      "text/plain": [
       "0    PG-13\n",
       "1    PG-13\n",
       "2    PG-13\n",
       "3    PG-13\n",
       "4      NaN\n",
       "Name: content_rating, dtype: object"
      ]
     },
     "execution_count": 4,
     "metadata": {},
     "output_type": "execute_result"
    }
   ],
   "source": [
    "# let's get an idea what content_rating is\n",
    "df['content_rating'].head()"
   ]
  },
  {
   "cell_type": "code",
   "execution_count": 5,
   "metadata": {},
   "outputs": [],
   "source": [
    "df = df.reindex(np.random.permutation(df.index))"
   ]
  },
  {
   "cell_type": "code",
   "execution_count": 6,
   "metadata": {},
   "outputs": [
    {
     "data": {
      "text/plain": [
       "(5043, 28)"
      ]
     },
     "execution_count": 6,
     "metadata": {},
     "output_type": "execute_result"
    }
   ],
   "source": [
    "# just sanity-checking that the shape hasn't changed after randomization\n",
    "df.shape"
   ]
  },
  {
   "cell_type": "code",
   "execution_count": 7,
   "metadata": {},
   "outputs": [
    {
     "data": {
      "text/plain": [
       "Index([u'color', u'director_name', u'num_critic_for_reviews', u'duration',\n",
       "       u'director_facebook_likes', u'actor_3_facebook_likes', u'actor_2_name',\n",
       "       u'actor_1_facebook_likes', u'gross', u'genres', u'actor_1_name',\n",
       "       u'movie_title', u'num_voted_users', u'cast_total_facebook_likes',\n",
       "       u'actor_3_name', u'facenumber_in_poster', u'plot_keywords',\n",
       "       u'movie_imdb_link', u'num_user_for_reviews', u'language', u'country',\n",
       "       u'content_rating', u'budget', u'title_year', u'actor_2_facebook_likes',\n",
       "       u'imdb_score', u'aspect_ratio', u'movie_facebook_likes'],\n",
       "      dtype='object')"
      ]
     },
     "execution_count": 7,
     "metadata": {},
     "output_type": "execute_result"
    }
   ],
   "source": [
    "df.columns"
   ]
  },
  {
   "cell_type": "code",
   "execution_count": 8,
   "metadata": {},
   "outputs": [],
   "source": [
    "# data cleaning\n",
    "def inf_to_nan(series):\n",
    "    return series.replace([np.inf, -np.inf], np.nan)\n",
    "\n",
    "def drop_na_rows(df, columns):\n",
    "    \"\"\"\n",
    "    remove those rows in df which has nan in one of the columns\n",
    "    \"\"\"\n",
    "    return df.dropna(axis=0, how='any', subset=columns)"
   ]
  },
  {
   "cell_type": "code",
   "execution_count": 9,
   "metadata": {},
   "outputs": [
    {
     "data": {
      "text/plain": [
       "4935"
      ]
     },
     "execution_count": 9,
     "metadata": {},
     "output_type": "execute_result"
    }
   ],
   "source": [
    "# I need a legitimate title_year to take inflation into account\n",
    "df['title_year'] = inf_to_nan(df['title_year'])\n",
    "clean_df = drop_na_rows(df, ['title_year'])\n",
    "assert clean_df.shape[0] < 5000\n",
    "clean_df.shape[0]"
   ]
  },
  {
   "cell_type": "code",
   "execution_count": 10,
   "metadata": {},
   "outputs": [
    {
     "name": "stderr",
     "output_type": "stream",
     "text": [
      "/Users/henry/.pyenv/versions/2.7.12/envs/tf2/lib/python2.7/site-packages/ipykernel_launcher.py:4: UserWarning: Boolean Series key will be reindexed to match DataFrame index.\n",
      "  after removing the cwd from sys.path.\n"
     ]
    },
    {
     "data": {
      "text/plain": [
       "(3733, 28)"
      ]
     },
     "execution_count": 10,
     "metadata": {},
     "output_type": "execute_result"
    }
   ],
   "source": [
    "# as mentioned in Important notes, point #6, some gross are denominated in other currencies\n",
    "# to keep things simple, let's focus on American films => left with 3733 rows\n",
    "\n",
    "clean_df = clean_df[df.country == 'USA']\n",
    "clean_df.shape"
   ]
  },
  {
   "cell_type": "code",
   "execution_count": 11,
   "metadata": {},
   "outputs": [
    {
     "name": "stderr",
     "output_type": "stream",
     "text": [
      "/Users/henry/.pyenv/versions/2.7.12/envs/tf2/lib/python2.7/site-packages/ipykernel_launcher.py:3: UserWarning: Boolean Series key will be reindexed to match DataFrame index.\n",
      "  This is separate from the ipykernel package so we can avoid doing imports until\n"
     ]
    },
    {
     "data": {
      "text/plain": [
       "(3235, 28)"
      ]
     },
     "execution_count": 11,
     "metadata": {},
     "output_type": "execute_result"
    }
   ],
   "source": [
    "# as mentioned in Important notes, point #3, there are around 800 \"0\"s in the \"gross\" attribute, remove those rows\n",
    "\n",
    "clean_df = clean_df[df.gross > 0]\n",
    "clean_df.shape"
   ]
  },
  {
   "cell_type": "code",
   "execution_count": 12,
   "metadata": {},
   "outputs": [
    {
     "data": {
      "text/plain": [
       "count    3235.000000\n",
       "mean     2003.169706\n",
       "std         9.935037\n",
       "min      1920.000000\n",
       "25%      1999.000000\n",
       "50%      2005.000000\n",
       "75%      2010.000000\n",
       "max      2016.000000\n",
       "Name: title_year, dtype: float64"
      ]
     },
     "execution_count": 12,
     "metadata": {},
     "output_type": "execute_result"
    }
   ],
   "source": [
    "clean_df['title_year'].describe()"
   ]
  },
  {
   "cell_type": "code",
   "execution_count": 13,
   "metadata": {},
   "outputs": [
    {
     "data": {
      "text/plain": [
       "count    3.235000e+03\n",
       "mean     5.521461e+07\n",
       "std      7.173312e+07\n",
       "min      7.030000e+02\n",
       "25%      1.011027e+07\n",
       "50%      3.217878e+07\n",
       "75%      7.214700e+07\n",
       "max      7.605058e+08\n",
       "Name: gross, dtype: float64"
      ]
     },
     "execution_count": 13,
     "metadata": {},
     "output_type": "execute_result"
    }
   ],
   "source": [
    "clean_df['gross'].describe()"
   ]
  },
  {
   "cell_type": "code",
   "execution_count": 14,
   "metadata": {},
   "outputs": [
    {
     "data": {
      "text/plain": [
       "count    3.074000e+03\n",
       "mean     4.048499e+07\n",
       "std      1.645230e+08\n",
       "min     -2.631049e+08\n",
       "25%     -1.379435e+07\n",
       "50%      5.558011e+06\n",
       "75%      4.994008e+07\n",
       "max      4.054227e+09\n",
       "Name: adjusted_profit, dtype: float64"
      ]
     },
     "execution_count": 14,
     "metadata": {},
     "output_type": "execute_result"
    }
   ],
   "source": [
    "# normalize gross, i.e. bring all gross revenue to 2016 assuming 4% annual inflation since 1920\n",
    "# the reality is more complicated https://inflationdata.com/Inflation/Inflation_Rate/Long_Term_Inflation.asp\n",
    "# but I have to start somewhere... i.e. 4%\n",
    "\n",
    "clean_df['adjusted_profit'] = (clean_df['gross'] - clean_df['budget']) * 1.04**(2016 - clean_df['title_year'])\n",
    "clean_df['adjusted_profit'].describe()"
   ]
  },
  {
   "cell_type": "code",
   "execution_count": 16,
   "metadata": {
    "scrolled": true
   },
   "outputs": [
    {
     "data": {
      "text/html": [
       "<div>\n",
       "<style>\n",
       "    .dataframe thead tr:only-child th {\n",
       "        text-align: right;\n",
       "    }\n",
       "\n",
       "    .dataframe thead th {\n",
       "        text-align: left;\n",
       "    }\n",
       "\n",
       "    .dataframe tbody tr th {\n",
       "        vertical-align: top;\n",
       "    }\n",
       "</style>\n",
       "<table border=\"1\" class=\"dataframe\">\n",
       "  <thead>\n",
       "    <tr style=\"text-align: right;\">\n",
       "      <th></th>\n",
       "      <th>gross</th>\n",
       "      <th>adjusted_profit</th>\n",
       "      <th>movie_title</th>\n",
       "      <th>plot_keywords</th>\n",
       "      <th>language</th>\n",
       "      <th>country</th>\n",
       "      <th>budget</th>\n",
       "      <th>title_year</th>\n",
       "      <th>imdb_score</th>\n",
       "    </tr>\n",
       "  </thead>\n",
       "  <tbody>\n",
       "    <tr>\n",
       "      <th>4449</th>\n",
       "      <td>184925485.0</td>\n",
       "      <td>4.054227e+09</td>\n",
       "      <td>Snow White and the Seven Dwarfs</td>\n",
       "      <td>dwarf|love|princess|queen|snow white</td>\n",
       "      <td>English</td>\n",
       "      <td>USA</td>\n",
       "      <td>2000000.0</td>\n",
       "      <td>1937.0</td>\n",
       "      <td>7.7</td>\n",
       "    </tr>\n",
       "    <tr>\n",
       "      <th>3970</th>\n",
       "      <td>198655278.0</td>\n",
       "      <td>3.989189e+09</td>\n",
       "      <td>Gone with the Wind</td>\n",
       "      <td>battle of the sexes|gallantry|honesty|indiffer...</td>\n",
       "      <td>English</td>\n",
       "      <td>USA</td>\n",
       "      <td>3977000.0</td>\n",
       "      <td>1939.0</td>\n",
       "      <td>8.2</td>\n",
       "    </tr>\n",
       "    <tr>\n",
       "      <th>3024</th>\n",
       "      <td>460935665.0</td>\n",
       "      <td>2.077068e+09</td>\n",
       "      <td>Star Wars: Episode IV - A New Hope</td>\n",
       "      <td>death star|empire|galactic war|princess|rebellion</td>\n",
       "      <td>English</td>\n",
       "      <td>USA</td>\n",
       "      <td>11000000.0</td>\n",
       "      <td>1977.0</td>\n",
       "      <td>8.7</td>\n",
       "    </tr>\n",
       "    <tr>\n",
       "      <th>3080</th>\n",
       "      <td>434949459.0</td>\n",
       "      <td>1.610496e+09</td>\n",
       "      <td>E.T. the Extra-Terrestrial</td>\n",
       "      <td>bicyclist|boy|doll|star wars reference|voice i...</td>\n",
       "      <td>English</td>\n",
       "      <td>USA</td>\n",
       "      <td>10500000.0</td>\n",
       "      <td>1982.0</td>\n",
       "      <td>7.9</td>\n",
       "    </tr>\n",
       "    <tr>\n",
       "      <th>1143</th>\n",
       "      <td>84300000.0</td>\n",
       "      <td>1.609740e+09</td>\n",
       "      <td>Pinocchio</td>\n",
       "      <td>boy|conscience|fairy|jiminy cricket|pinocchio</td>\n",
       "      <td>English</td>\n",
       "      <td>USA</td>\n",
       "      <td>2600000.0</td>\n",
       "      <td>1940.0</td>\n",
       "      <td>7.5</td>\n",
       "    </tr>\n",
       "    <tr>\n",
       "      <th>4225</th>\n",
       "      <td>76400000.0</td>\n",
       "      <td>1.460391e+09</td>\n",
       "      <td>Fantasia</td>\n",
       "      <td>apprentice|classical music|disney|mouse|orchestra</td>\n",
       "      <td>English</td>\n",
       "      <td>USA</td>\n",
       "      <td>2280000.0</td>\n",
       "      <td>1940.0</td>\n",
       "      <td>7.8</td>\n",
       "    </tr>\n",
       "    <tr>\n",
       "      <th>2917</th>\n",
       "      <td>260000000.0</td>\n",
       "      <td>1.258251e+09</td>\n",
       "      <td>Jaws</td>\n",
       "      <td>beach|blockbuster|fishing|great white shark|shark</td>\n",
       "      <td>English</td>\n",
       "      <td>USA</td>\n",
       "      <td>8000000.0</td>\n",
       "      <td>1975.0</td>\n",
       "      <td>8.0</td>\n",
       "    </tr>\n",
       "    <tr>\n",
       "      <th>3359</th>\n",
       "      <td>163214286.0</td>\n",
       "      <td>1.145703e+09</td>\n",
       "      <td>The Sound of Music</td>\n",
       "      <td>austria|children|governess|love|orchestral mus...</td>\n",
       "      <td>English</td>\n",
       "      <td>USA</td>\n",
       "      <td>8200000.0</td>\n",
       "      <td>1965.0</td>\n",
       "      <td>8.0</td>\n",
       "    </tr>\n",
       "    <tr>\n",
       "      <th>2051</th>\n",
       "      <td>290158751.0</td>\n",
       "      <td>1.116921e+09</td>\n",
       "      <td>Star Wars: Episode V - The Empire Strikes Back</td>\n",
       "      <td>duel|famous twist|rebel|rescue|snowy landscape</td>\n",
       "      <td>English</td>\n",
       "      <td>USA</td>\n",
       "      <td>18000000.0</td>\n",
       "      <td>1980.0</td>\n",
       "      <td>8.8</td>\n",
       "    </tr>\n",
       "    <tr>\n",
       "      <th>2916</th>\n",
       "      <td>204565000.0</td>\n",
       "      <td>1.061548e+09</td>\n",
       "      <td>The Exorcist</td>\n",
       "      <td>demonic possession|exorcism|exorcist|loss of i...</td>\n",
       "      <td>English</td>\n",
       "      <td>USA</td>\n",
       "      <td>8000000.0</td>\n",
       "      <td>1973.0</td>\n",
       "      <td>8.0</td>\n",
       "    </tr>\n",
       "    <tr>\n",
       "      <th>1536</th>\n",
       "      <td>309125409.0</td>\n",
       "      <td>1.009235e+09</td>\n",
       "      <td>Star Wars: Episode VI - Return of the Jedi</td>\n",
       "      <td>death star|emperor|empire|princess|rebel</td>\n",
       "      <td>English</td>\n",
       "      <td>USA</td>\n",
       "      <td>32500000.0</td>\n",
       "      <td>1983.0</td>\n",
       "      <td>8.4</td>\n",
       "    </tr>\n",
       "    <tr>\n",
       "      <th>26</th>\n",
       "      <td>658672302.0</td>\n",
       "      <td>9.663534e+08</td>\n",
       "      <td>Titanic</td>\n",
       "      <td>artist|love|ship|titanic|wet</td>\n",
       "      <td>English</td>\n",
       "      <td>USA</td>\n",
       "      <td>200000000.0</td>\n",
       "      <td>1997.0</td>\n",
       "      <td>7.7</td>\n",
       "    </tr>\n",
       "    <tr>\n",
       "      <th>509</th>\n",
       "      <td>422783777.0</td>\n",
       "      <td>8.953169e+08</td>\n",
       "      <td>The Lion King</td>\n",
       "      <td>king|prince|scar|uncle|unnecessary guilt</td>\n",
       "      <td>English</td>\n",
       "      <td>USA</td>\n",
       "      <td>45000000.0</td>\n",
       "      <td>1994.0</td>\n",
       "      <td>8.5</td>\n",
       "    </tr>\n",
       "    <tr>\n",
       "      <th>2152</th>\n",
       "      <td>242374454.0</td>\n",
       "      <td>8.854016e+08</td>\n",
       "      <td>Raiders of the Lost Ark</td>\n",
       "      <td>archeological dig|archeologist|ark of the cove...</td>\n",
       "      <td>English</td>\n",
       "      <td>USA</td>\n",
       "      <td>18000000.0</td>\n",
       "      <td>1981.0</td>\n",
       "      <td>8.5</td>\n",
       "    </tr>\n",
       "    <tr>\n",
       "      <th>3668</th>\n",
       "      <td>159600000.0</td>\n",
       "      <td>8.322163e+08</td>\n",
       "      <td>The Sting</td>\n",
       "      <td>con|con man|courier|long con|murder</td>\n",
       "      <td>English</td>\n",
       "      <td>USA</td>\n",
       "      <td>5500000.0</td>\n",
       "      <td>1973.0</td>\n",
       "      <td>8.3</td>\n",
       "    </tr>\n",
       "  </tbody>\n",
       "</table>\n",
       "</div>"
      ],
      "text/plain": [
       "            gross  adjusted_profit  \\\n",
       "4449  184925485.0     4.054227e+09   \n",
       "3970  198655278.0     3.989189e+09   \n",
       "3024  460935665.0     2.077068e+09   \n",
       "3080  434949459.0     1.610496e+09   \n",
       "1143   84300000.0     1.609740e+09   \n",
       "4225   76400000.0     1.460391e+09   \n",
       "2917  260000000.0     1.258251e+09   \n",
       "3359  163214286.0     1.145703e+09   \n",
       "2051  290158751.0     1.116921e+09   \n",
       "2916  204565000.0     1.061548e+09   \n",
       "1536  309125409.0     1.009235e+09   \n",
       "26    658672302.0     9.663534e+08   \n",
       "509   422783777.0     8.953169e+08   \n",
       "2152  242374454.0     8.854016e+08   \n",
       "3668  159600000.0     8.322163e+08   \n",
       "\n",
       "                                          movie_title  \\\n",
       "4449                 Snow White and the Seven Dwarfs    \n",
       "3970                              Gone with the Wind    \n",
       "3024              Star Wars: Episode IV - A New Hope    \n",
       "3080                      E.T. the Extra-Terrestrial    \n",
       "1143                                       Pinocchio    \n",
       "4225                                        Fantasia    \n",
       "2917                                            Jaws    \n",
       "3359                              The Sound of Music    \n",
       "2051  Star Wars: Episode V - The Empire Strikes Back    \n",
       "2916                                    The Exorcist    \n",
       "1536      Star Wars: Episode VI - Return of the Jedi    \n",
       "26                                           Titanic    \n",
       "509                                    The Lion King    \n",
       "2152                         Raiders of the Lost Ark    \n",
       "3668                                       The Sting    \n",
       "\n",
       "                                          plot_keywords language country  \\\n",
       "4449               dwarf|love|princess|queen|snow white  English     USA   \n",
       "3970  battle of the sexes|gallantry|honesty|indiffer...  English     USA   \n",
       "3024  death star|empire|galactic war|princess|rebellion  English     USA   \n",
       "3080  bicyclist|boy|doll|star wars reference|voice i...  English     USA   \n",
       "1143      boy|conscience|fairy|jiminy cricket|pinocchio  English     USA   \n",
       "4225  apprentice|classical music|disney|mouse|orchestra  English     USA   \n",
       "2917  beach|blockbuster|fishing|great white shark|shark  English     USA   \n",
       "3359  austria|children|governess|love|orchestral mus...  English     USA   \n",
       "2051     duel|famous twist|rebel|rescue|snowy landscape  English     USA   \n",
       "2916  demonic possession|exorcism|exorcist|loss of i...  English     USA   \n",
       "1536           death star|emperor|empire|princess|rebel  English     USA   \n",
       "26                         artist|love|ship|titanic|wet  English     USA   \n",
       "509            king|prince|scar|uncle|unnecessary guilt  English     USA   \n",
       "2152  archeological dig|archeologist|ark of the cove...  English     USA   \n",
       "3668                con|con man|courier|long con|murder  English     USA   \n",
       "\n",
       "           budget  title_year  imdb_score  \n",
       "4449    2000000.0      1937.0         7.7  \n",
       "3970    3977000.0      1939.0         8.2  \n",
       "3024   11000000.0      1977.0         8.7  \n",
       "3080   10500000.0      1982.0         7.9  \n",
       "1143    2600000.0      1940.0         7.5  \n",
       "4225    2280000.0      1940.0         7.8  \n",
       "2917    8000000.0      1975.0         8.0  \n",
       "3359    8200000.0      1965.0         8.0  \n",
       "2051   18000000.0      1980.0         8.8  \n",
       "2916    8000000.0      1973.0         8.0  \n",
       "1536   32500000.0      1983.0         8.4  \n",
       "26    200000000.0      1997.0         7.7  \n",
       "509    45000000.0      1994.0         8.5  \n",
       "2152   18000000.0      1981.0         8.5  \n",
       "3668    5500000.0      1973.0         8.3  "
      ]
     },
     "execution_count": 16,
     "metadata": {},
     "output_type": "execute_result"
    }
   ],
   "source": [
    "# print out the top 15 in terms of adjusted_profit for sanity checking\n",
    "sorted = clean_df.sort_values(by='adjusted_profit', ascending=False, axis=0).loc[:,['gross', 'adjusted_profit',\n",
    "       'movie_title', 'plot_keywords', 'language', 'country', 'budget', 'title_year', 'imdb_score']]\n",
    "sorted.head(15)"
   ]
  },
  {
   "cell_type": "code",
   "execution_count": 15,
   "metadata": {},
   "outputs": [
    {
     "data": {
      "text/plain": [
       "(3235, 29)"
      ]
     },
     "execution_count": 15,
     "metadata": {},
     "output_type": "execute_result"
    }
   ],
   "source": [
    "clean_df.shape"
   ]
  },
  {
   "cell_type": "code",
   "execution_count": 16,
   "metadata": {},
   "outputs": [
    {
     "data": {
      "text/plain": [
       "title_year                  -0.375180\n",
       "aspect_ratio                -0.086631\n",
       "facenumber_in_poster        -0.031801\n",
       "budget                      -0.031506\n",
       "actor_1_facebook_likes       0.006957\n",
       "cast_total_facebook_likes    0.025583\n",
       "actor_2_facebook_likes       0.033938\n",
       "actor_3_facebook_likes       0.057017\n",
       "director_facebook_likes      0.082494\n",
       "movie_facebook_likes         0.086606\n",
       "num_critic_for_reviews       0.092278\n",
       "duration                     0.140801\n",
       "num_user_for_reviews         0.234989\n",
       "imdb_score                   0.259685\n",
       "num_voted_users              0.335221\n",
       "gross                        0.515573\n",
       "adjusted_profit              1.000000\n",
       "Name: adjusted_profit, dtype: float64"
      ]
     },
     "execution_count": 16,
     "metadata": {},
     "output_type": "execute_result"
    }
   ],
   "source": [
    "correlation_df = clean_df.copy()\n",
    "correlation_df.corr()['adjusted_profit'].sort_values()"
   ]
  },
  {
   "cell_type": "code",
   "execution_count": 17,
   "metadata": {},
   "outputs": [
    {
     "data": {
      "text/plain": [
       "Index([u'color', u'director_name', u'num_critic_for_reviews', u'duration',\n",
       "       u'director_facebook_likes', u'actor_3_facebook_likes', u'actor_2_name',\n",
       "       u'actor_1_facebook_likes', u'gross', u'genres', u'actor_1_name',\n",
       "       u'movie_title', u'num_voted_users', u'cast_total_facebook_likes',\n",
       "       u'actor_3_name', u'facenumber_in_poster', u'plot_keywords',\n",
       "       u'movie_imdb_link', u'num_user_for_reviews', u'language', u'country',\n",
       "       u'content_rating', u'budget', u'title_year', u'actor_2_facebook_likes',\n",
       "       u'imdb_score', u'aspect_ratio', u'movie_facebook_likes',\n",
       "       u'adjusted_profit'],\n",
       "      dtype='object')"
      ]
     },
     "execution_count": 17,
     "metadata": {},
     "output_type": "execute_result"
    }
   ],
   "source": [
    "correlation_df.columns"
   ]
  },
  {
   "cell_type": "code",
   "execution_count": 18,
   "metadata": {},
   "outputs": [
    {
     "data": {
      "text/plain": [
       "'\\nthese features are available before the movie comes out\\n\\ntitle_year                  -0.375180\\naspect_ratio                -0.086631\\nfacenumber_in_poster        -0.031801\\nbudget                      -0.031506\\nactor_1_facebook_likes       0.006957\\ncast_total_facebook_likes    0.025583\\nactor_2_facebook_likes       0.033938\\nactor_3_facebook_likes       0.057017\\ndirector_facebook_likes      0.082494\\nmovie_facebook_likes         0.086606\\nduration                     0.140801\\n'"
      ]
     },
     "execution_count": 18,
     "metadata": {},
     "output_type": "execute_result"
    }
   ],
   "source": [
    "\"\"\"\n",
    "these features are available before the movie comes out\n",
    "\n",
    "title_year                  -0.375180\n",
    "aspect_ratio                -0.086631\n",
    "facenumber_in_poster        -0.031801\n",
    "budget                      -0.031506\n",
    "actor_1_facebook_likes       0.006957\n",
    "cast_total_facebook_likes    0.025583\n",
    "actor_2_facebook_likes       0.033938\n",
    "actor_3_facebook_likes       0.057017\n",
    "director_facebook_likes      0.082494\n",
    "movie_facebook_likes         0.086606\n",
    "duration                     0.140801\n",
    "\"\"\""
   ]
  },
  {
   "cell_type": "code",
   "execution_count": 19,
   "metadata": {},
   "outputs": [],
   "source": [
    "def preprocess_features(input_df):\n",
    "    \"\"\"Prepares input features from data set.\n",
    "    Returns:\n",
    "    A DataFrame that contains the features to be used for the model, including\n",
    "    synthetic features.\n",
    "    \"\"\"\n",
    "    selected_features = input_df[['duration',\n",
    "       'director_facebook_likes', 'actor_3_facebook_likes', \n",
    "       'actor_1_facebook_likes', \n",
    "       'cast_total_facebook_likes',\n",
    "       'facenumber_in_poster',\n",
    "       'title_year', 'actor_2_facebook_likes']]\n",
    "    processed_features = selected_features.copy()\n",
    "    \n",
    "    # Create a synthetic feature?\n",
    "    \n",
    "    return processed_features\n",
    "\n",
    "\n",
    "def preprocess_targets(input_df):\n",
    "    \"\"\"Prepares target features (i.e., labels)\n",
    "    Returns:\n",
    "    A DataFrame that contains the target feature.\n",
    "    \"\"\"\n",
    "    output_targets = pd.DataFrame()\n",
    "    \n",
    "    # Scale the target to be in units of millions of dollars.\n",
    "    output_targets[\"adjusted_profit\"] = (input_df[\"adjusted_profit\"] / 1000000.0)\n",
    "    return output_targets"
   ]
  },
  {
   "cell_type": "code",
   "execution_count": 24,
   "metadata": {},
   "outputs": [],
   "source": [
    "clean_df = clean_df.reindex(np.random.permutation(clean_df.index))\n",
    "filled_df = clean_df.fillna(0)\n",
    "x = preprocess_features(filled_df.iloc[0:2000,:])\n",
    "y = preprocess_targets(filled_df.iloc[0:2000,:])"
   ]
  },
  {
   "cell_type": "code",
   "execution_count": 22,
   "metadata": {},
   "outputs": [],
   "source": [
    "def train_model(\n",
    "    target,\n",
    "    learning_rate,\n",
    "    steps,\n",
    "    batch_size,\n",
    "    training_examples,\n",
    "    training_targets,\n",
    "    validation_examples,\n",
    "    validation_targets):\n",
    "    \"\"\"Trains a linear regression model.\n",
    "\n",
    "    In addition to training, this function also prints training progress information,\n",
    "    as well as a plot of the training and validation loss over time.\n",
    "\n",
    "    Args:\n",
    "    learning_rate: A `float`, the learning rate.\n",
    "    steps: A non-zero `int`, the total number of training steps. A training step\n",
    "      consists of a forward and backward pass using a single batch.\n",
    "    batch_size: A non-zero `int`, the batch size.\n",
    "    ...\n",
    "\n",
    "    Returns:\n",
    "    A `LinearRegressor` object trained on the training data.\n",
    "    \"\"\"\n",
    "\n",
    "    periods = 10\n",
    "    steps_per_period = steps / periods\n",
    "\n",
    "    # Create a linear regressor object.\n",
    "    feature_columns = set([tf.contrib.layers.real_valued_column(my_feature) for my_feature in training_examples])\n",
    "    linear_regressor = tf.contrib.learn.LinearRegressor(\n",
    "      feature_columns=feature_columns,\n",
    "      optimizer=tf.train.GradientDescentOptimizer(learning_rate=learning_rate),\n",
    "      gradient_clip_norm=5.0\n",
    "    )\n",
    "\n",
    "    # Create input functions\n",
    "    training_input_fn = learn_io.pandas_input_fn(\n",
    "      x=training_examples, y=training_targets[target],\n",
    "      num_epochs=None, batch_size=batch_size)\n",
    "    predict_training_input_fn = learn_io.pandas_input_fn(\n",
    "      x=training_examples, y=training_targets[target],\n",
    "      num_epochs=1, shuffle=False)\n",
    "    predict_validation_input_fn = learn_io.pandas_input_fn(\n",
    "      x=validation_examples, y=validation_targets[target],\n",
    "      num_epochs=1, shuffle=False)\n",
    "\n",
    "    # Train the model, but do so inside a loop so that we can periodically assess\n",
    "    # loss metrics.\n",
    "    print(\"Training model...\")\n",
    "    print(\"RMSE (on training data):\")\n",
    "    training_rmse = []\n",
    "    validation_rmse = []\n",
    "    for period in range (0, periods):\n",
    "        # Train the model, starting from the prior state.\n",
    "        linear_regressor.fit(\n",
    "            input_fn=training_input_fn,\n",
    "            steps=steps_per_period,\n",
    "        )\n",
    "        # Take a break and compute predictions.\n",
    "        training_predictions = list(linear_regressor.predict(input_fn=predict_training_input_fn))\n",
    "        validation_predictions = list(linear_regressor.predict(input_fn=predict_validation_input_fn))\n",
    "        # Compute training and validation loss.\n",
    "        training_root_mean_squared_error = math.sqrt(\n",
    "            metrics.mean_squared_error(training_predictions, training_targets))\n",
    "        validation_root_mean_squared_error = math.sqrt(\n",
    "            metrics.mean_squared_error(validation_predictions, validation_targets))\n",
    "        # Occasionally print the current loss.\n",
    "        print(\"  period %02d : %0.2f\" % (period, training_root_mean_squared_error))\n",
    "        # Add the loss metrics from this period to our list.\n",
    "        training_rmse.append(training_root_mean_squared_error)\n",
    "        validation_rmse.append(validation_root_mean_squared_error)\n",
    "    print(\"Model training finished.\")\n",
    "\n",
    "\n",
    "    # Output a graph of loss metrics over periods.\n",
    "    plt.ylabel(\"RMSE\")\n",
    "    plt.xlabel(\"Periods\")\n",
    "    plt.title(\"Root Mean Squared Error vs. Periods\")\n",
    "    plt.tight_layout()\n",
    "    plt.plot(training_rmse, label=\"training\")\n",
    "    plt.plot(validation_rmse, label=\"validation\")\n",
    "    plt.legend()\n",
    "\n",
    "    return linear_regressor"
   ]
  },
  {
   "cell_type": "code",
   "execution_count": 23,
   "metadata": {},
   "outputs": [
    {
     "name": "stdout",
     "output_type": "stream",
     "text": [
      "Training model...\n",
      "RMSE (on training data):\n",
      "  period 00 : 181.30\n",
      "  period 01 : 179.55\n",
      "  period 02 : 179.07\n",
      "  period 03 : 178.92\n",
      "  period 04 : 178.54\n",
      "  period 05 : 179.24\n",
      "  period 06 : 181.62\n",
      "  period 07 : 178.40\n",
      "  period 08 : 178.33\n",
      "  period 09 : 179.63\n",
      "Model training finished.\n"
     ]
    },
    {
     "data": {
      "text/plain": [
       "LinearRegressor(params={'gradient_clip_norm': 5.0, 'head': <tensorflow.contrib.learn.python.learn.estimators.head._RegressionHead object at 0x11a6a0e10>, 'joint_weights': False, 'optimizer': <tensorflow.python.training.gradient_descent.GradientDescentOptimizer object at 0x11a6a0e50>, 'feature_columns': set([_RealValuedColumn(column_name='cast_total_facebook_likes', dimension=1, default_value=None, dtype=tf.float32, normalizer=None), _RealValuedColumn(column_name='actor_2_facebook_likes', dimension=1, default_value=None, dtype=tf.float32, normalizer=None), _RealValuedColumn(column_name='facenumber_in_poster', dimension=1, default_value=None, dtype=tf.float32, normalizer=None), _RealValuedColumn(column_name='title_year', dimension=1, default_value=None, dtype=tf.float32, normalizer=None), _RealValuedColumn(column_name='actor_1_facebook_likes', dimension=1, default_value=None, dtype=tf.float32, normalizer=None), _RealValuedColumn(column_name='duration', dimension=1, default_value=None, dtype=tf.float32, normalizer=None), _RealValuedColumn(column_name='director_facebook_likes', dimension=1, default_value=None, dtype=tf.float32, normalizer=None), _RealValuedColumn(column_name='actor_3_facebook_likes', dimension=1, default_value=None, dtype=tf.float32, normalizer=None)])})"
      ]
     },
     "execution_count": 23,
     "metadata": {},
     "output_type": "execute_result"
    }
   ],
   "source": [
    "train_model(\n",
    "    target='adjusted_profit',\n",
    "    learning_rate=0.00005,\n",
    "    steps=1000,\n",
    "    batch_size=20,\n",
    "    training_examples=x,\n",
    "    training_targets=y,\n",
    "    validation_examples=preprocess_features(filled_df.iloc[2000:,:]),\n",
    "    validation_targets=preprocess_targets(filled_df.iloc[2000:,:]))"
   ]
  }
 ],
 "metadata": {
  "kernelspec": {
   "display_name": "Python 2",
   "language": "python",
   "name": "python2"
  },
  "language_info": {
   "codemirror_mode": {
    "name": "ipython",
    "version": 2
   },
   "file_extension": ".py",
   "mimetype": "text/x-python",
   "name": "python",
   "nbconvert_exporter": "python",
   "pygments_lexer": "ipython2",
   "version": "2.7.12"
  }
 },
 "nbformat": 4,
 "nbformat_minor": 2
}
