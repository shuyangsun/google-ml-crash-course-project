{
 "cells": [
  {
   "cell_type": "code",
   "execution_count": 17,
   "metadata": {},
   "outputs": [],
   "source": [
    "import math\n",
    "\n",
    "from IPython import display\n",
    "from matplotlib import cm\n",
    "from matplotlib import gridspec\n",
    "from matplotlib import pyplot as plt\n",
    "import numpy as np\n",
    "import pandas as pd\n",
    "from sklearn import metrics\n",
    "import tensorflow as tf\n",
    "from tensorflow.contrib.learn.python.learn import learn_io\n",
    "\n",
    "tf.logging.set_verbosity(tf.logging.ERROR)\n",
    "pd.options.display.max_rows = 50\n",
    "pd.options.display.float_format = '{:.3f}'.format\n",
    "\n",
    "imdb_df = pd.read_csv(\"movie_metadata.csv\")\n",
    "imdb_df = imdb_df.reindex(np.random.permutation(imdb_df.index))"
   ]
  },
  {
   "cell_type": "code",
   "execution_count": 18,
   "metadata": {},
   "outputs": [
    {
     "name": "stdout",
     "output_type": "stream",
     "text": [
      "(3756, 28)\n",
      "(2987, 28)\n"
     ]
    }
   ],
   "source": [
    "# drop NAN values\n",
    "imdb_df.dropna(inplace = True)\n",
    "print(imdb_df.shape)\n",
    "\n",
    "# use only USA\n",
    "imdb_df = imdb_df[imdb_df.country == \"USA\"]\n",
    "print(imdb_df.shape)"
   ]
  },
  {
   "cell_type": "code",
   "execution_count": 19,
   "metadata": {
    "collapsed": true
   },
   "outputs": [],
   "source": [
    "def linear_scale(series):\n",
    "  min_val = series.min()\n",
    "  max_val = series.max()\n",
    "  scale = (max_val - min_val) / 2.0\n",
    "  return series.apply(lambda x:((x - min_val) / scale) - 1.0)"
   ]
  },
  {
   "cell_type": "code",
   "execution_count": 20,
   "metadata": {
    "collapsed": true
   },
   "outputs": [],
   "source": [
    "def preprocess_features(imdb_dataframe):\n",
    "    selected_features = imdb_dataframe[\n",
    "        [\"color\",\n",
    "         #\"director_name\", to include soon\n",
    "         \"duration\",\n",
    "         \"director_facebook_likes\",\n",
    "         \"actor_3_facebook_likes\",\n",
    "         #\"actor_2_name\", will consider one-hot-encoding or binary encoding later\n",
    "         \"actor_1_facebook_likes\",\n",
    "         #\"genres\", to include soon\n",
    "         #\"actor_1_name\", will consider one-hot-encoding or binary encoding later\n",
    "         \"cast_total_facebook_likes\",\n",
    "         #\"actor_3_name\", will consider one-hot-encoding or binary encoding later\n",
    "         \"facenumber_in_poster\",\n",
    "         #\"plot_keywords\", \n",
    "         \"language\",\n",
    "         \"content_rating\",\n",
    "         \"budget\",\n",
    "         \"title_year\",\n",
    "         \"actor_2_facebook_likes\",\n",
    "         \"aspect_ratio\"]]\n",
    "        \n",
    "    processed_features = selected_features.copy()\n",
    "    \n",
    "    # process \"color\" : label encoding : Color=1, Black and White = 0\n",
    "    cleanup_color = {\"color\":{\"Color\": 1, \" Black and White\": 0}}\n",
    "    processed_features.replace(cleanup_color, inplace=True)\n",
    "    \n",
    "    # process \"language\" : label encoding : English=1, Others = 0\n",
    "    processed_features[\"language\"] = np.where(processed_features[\"language\"].str.contains(\"English\"),1, 0)\n",
    "    \n",
    "    # process \"content-rating\" : one-hot-encoding\n",
    "    processed_features.loc[processed_features[\"content_rating\"].isin(['Not Rated', 'Unrated', 'Approved', 'Passed', 'M', 'X']), \"content_rating\"] = \"NR\"\n",
    "    processed_features = pd.get_dummies(processed_features, columns=[\"content_rating\"])\n",
    "\n",
    "    # process numbers with linear scaling\n",
    "    processed_features[\"duration\"] = linear_scale(processed_features[\"duration\"])\n",
    "    processed_features[\"director_facebook_likes\"] = linear_scale(processed_features[\"director_facebook_likes\"])\n",
    "    processed_features[\"actor_3_facebook_likes\"] = linear_scale(processed_features[\"actor_3_facebook_likes\"])\n",
    "    processed_features[\"actor_1_facebook_likes\"] = linear_scale(processed_features[\"actor_1_facebook_likes\"])\n",
    "    processed_features[\"cast_total_facebook_likes\"] = linear_scale(processed_features[\"cast_total_facebook_likes\"])\n",
    "    processed_features[\"facenumber_in_poster\"] = linear_scale(processed_features[\"facenumber_in_poster\"])\n",
    "    processed_features[\"budget\"] = linear_scale(processed_features[\"budget\"])\n",
    "    processed_features[\"title_year\"] = linear_scale(processed_features[\"title_year\"])\n",
    "    processed_features[\"actor_2_facebook_likes\"] = linear_scale(processed_features[\"actor_2_facebook_likes\"])\n",
    "    processed_features[\"aspect_ratio\"] = linear_scale(processed_features[\"aspect_ratio\"])\n",
    "    \n",
    "    return processed_features\n",
    "\n",
    "\n",
    "def preprocess_targets(imdb_dataframe):\n",
    "    output_targets = pd.DataFrame()\n",
    "    \n",
    "    # plain gross return (maybe inflation is already explained by feature \"year\")\n",
    "    output_targets[\"gross\"] = (imdb_dataframe[\"gross\"] / 1000000.0)\n",
    "    \n",
    "    # credit to Henry\n",
    "    output_targets[\"adjusted_profit\"] = ((imdb_dataframe[\"gross\"] - imdb_dataframe[\"budget\"]) * 1.04**(2016 - imdb_dataframe['title_year'])/1000000.0)\n",
    "    \n",
    "    output_targets[\"imdb_score\"] = imdb_dataframe[\"imdb_score\"]\n",
    "    \n",
    "    return output_targets"
   ]
  },
  {
   "cell_type": "code",
   "execution_count": 21,
   "metadata": {
    "collapsed": true
   },
   "outputs": [],
   "source": [
    "imdb_processed_features = preprocess_features(imdb_df)\n",
    "imdb_processed_targets = preprocess_targets(imdb_df)\n",
    "\n",
    "training_examples = imdb_processed_features.head(2200)\n",
    "training_targets = imdb_processed_targets.head(2200)\n",
    "validation_examples = imdb_processed_features.tail(787)\n",
    "validation_targets = imdb_processed_targets.tail(787)"
   ]
  },
  {
   "cell_type": "code",
   "execution_count": 22,
   "metadata": {
    "collapsed": true
   },
   "outputs": [],
   "source": [
    "def train_linear_model(\n",
    "    target,\n",
    "    learning_rate,\n",
    "    steps,\n",
    "    batch_size,\n",
    "    training_examples,\n",
    "    training_targets,\n",
    "    validation_examples,\n",
    "    validation_targets):\n",
    "    \"\"\"Trains a linear regression model.\n",
    "\n",
    "    In addition to training, this function also prints training progress information,\n",
    "    as well as a plot of the training and validation loss over time.\n",
    "\n",
    "    Args:\n",
    "    learning_rate: A `float`, the learning rate.\n",
    "    steps: A non-zero `int`, the total number of training steps. A training step\n",
    "      consists of a forward and backward pass using a single batch.\n",
    "    batch_size: A non-zero `int`, the batch size.\n",
    "    ...\n",
    "\n",
    "    Returns:\n",
    "    A `LinearRegressor` object trained on the training data.\n",
    "    \"\"\"\n",
    "\n",
    "    periods = 10\n",
    "    steps_per_period = steps / periods\n",
    "\n",
    "    # Create a linear regressor object.\n",
    "    feature_columns = set([tf.contrib.layers.real_valued_column(my_feature) for my_feature in training_examples])\n",
    "    linear_regressor = tf.contrib.learn.LinearRegressor(\n",
    "      feature_columns=feature_columns,\n",
    "      optimizer=tf.train.GradientDescentOptimizer(learning_rate=learning_rate),\n",
    "      gradient_clip_norm=5.0\n",
    "    )\n",
    "\n",
    "    # Create input functions\n",
    "    training_input_fn = learn_io.pandas_input_fn(\n",
    "      x=training_examples, y=training_targets[target],\n",
    "      num_epochs=None, batch_size=batch_size)\n",
    "    predict_training_input_fn = learn_io.pandas_input_fn(\n",
    "      x=training_examples, y=training_targets[target],\n",
    "      num_epochs=1, shuffle=False)\n",
    "    predict_validation_input_fn = learn_io.pandas_input_fn(\n",
    "      x=validation_examples, y=validation_targets[target],\n",
    "      num_epochs=1, shuffle=False)\n",
    "\n",
    "    # Train the model, but do so inside a loop so that we can periodically assess\n",
    "    # loss metrics.\n",
    "    print(\"Training model...\")\n",
    "    print(\"RMSE (on training data):\")\n",
    "    training_rmse = []\n",
    "    validation_rmse = []\n",
    "    for period in range (0, periods):\n",
    "        # Train the model, starting from the prior state.\n",
    "        linear_regressor.fit(\n",
    "            input_fn=training_input_fn,\n",
    "            steps=steps_per_period,\n",
    "        )\n",
    "        # Take a break and compute predictions.\n",
    "        training_predictions = list(linear_regressor.predict(input_fn=predict_training_input_fn))\n",
    "        validation_predictions = list(linear_regressor.predict(input_fn=predict_validation_input_fn))\n",
    "        # Compute training and validation loss.\n",
    "        training_root_mean_squared_error = math.sqrt(\n",
    "            metrics.mean_squared_error(training_predictions, training_targets[target]))\n",
    "        validation_root_mean_squared_error = math.sqrt(\n",
    "            metrics.mean_squared_error(validation_predictions, validation_targets[target]))\n",
    "        # Occasionally print the current loss.\n",
    "        print(\"  period %02d : %0.2f\" % (period, training_root_mean_squared_error))\n",
    "        # Add the loss metrics from this period to our list.\n",
    "        training_rmse.append(training_root_mean_squared_error)\n",
    "        validation_rmse.append(validation_root_mean_squared_error)\n",
    "    print(\"Model training finished.\")\n",
    "\n",
    "\n",
    "    # Output a graph of loss metrics over periods.\n",
    "    plt.ylabel(\"RMSE\")\n",
    "    plt.xlabel(\"Periods\")\n",
    "    plt.title(\"Root Mean Squared Error vs. Periods\")\n",
    "    plt.tight_layout()\n",
    "    plt.plot(training_rmse, label=\"training\")\n",
    "    plt.plot(validation_rmse, label=\"validation\")\n",
    "    plt.legend()\n",
    "\n",
    "    return linear_regressor"
   ]
  },
  {
   "cell_type": "code",
   "execution_count": 23,
   "metadata": {},
   "outputs": [
    {
     "name": "stdout",
     "output_type": "stream",
     "text": [
      "Training model...\n",
      "RMSE (on training data):\n",
      "  period 00 : 95.13\n",
      "  period 01 : 95.04\n",
      "  period 02 : 94.94\n",
      "  period 03 : 94.84\n",
      "  period 04 : 94.74\n",
      "  period 05 : 94.65\n",
      "  period 06 : 94.55\n",
      "  period 07 : 94.45\n",
      "  period 08 : 94.35\n",
      "  period 09 : 94.26\n",
      "Model training finished.\n"
     ]
    }
   ],
   "source": [
    "_ = train_linear_model(\n",
    "    target='gross',\n",
    "    learning_rate=0.001,\n",
    "    steps=100,\n",
    "    batch_size=200,\n",
    "    training_examples=training_examples,\n",
    "    training_targets=training_targets,\n",
    "    validation_examples=validation_examples,\n",
    "    validation_targets=validation_targets)"
   ]
  },
  {
   "cell_type": "code",
   "execution_count": 25,
   "metadata": {},
   "outputs": [
    {
     "name": "stdout",
     "output_type": "stream",
     "text": [
      "Training model...\n",
      "RMSE (on training data):\n",
      "  period 00 : 162.83\n",
      "  period 01 : 162.81\n",
      "  period 02 : 162.79\n",
      "  period 03 : 162.78\n",
      "  period 04 : 162.76\n",
      "  period 05 : 162.74\n",
      "  period 06 : 162.72\n",
      "  period 07 : 162.71\n",
      "  period 08 : 162.69\n",
      "  period 09 : 162.67\n",
      "Model training finished.\n"
     ]
    }
   ],
   "source": [
    "_ = train_linear_model(\n",
    "    target='adjusted_profit',\n",
    "    learning_rate=0.0001,\n",
    "    steps=500,\n",
    "    batch_size=20,\n",
    "    training_examples=training_examples,\n",
    "    training_targets=training_targets,\n",
    "    validation_examples=validation_examples,\n",
    "    validation_targets=validation_targets)"
   ]
  },
  {
   "cell_type": "code",
   "execution_count": null,
   "metadata": {
    "collapsed": true
   },
   "outputs": [],
   "source": []
  }
 ],
 "metadata": {
  "kernelspec": {
   "display_name": "Python 3",
   "language": "python",
   "name": "python3"
  },
  "language_info": {
   "codemirror_mode": {
    "name": "ipython",
    "version": 3
   },
   "file_extension": ".py",
   "mimetype": "text/x-python",
   "name": "python",
   "nbconvert_exporter": "python",
   "pygments_lexer": "ipython3",
   "version": "3.6.1"
  }
 },
 "nbformat": 4,
 "nbformat_minor": 2
}
