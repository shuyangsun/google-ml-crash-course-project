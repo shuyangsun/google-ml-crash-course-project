{
 "cells": [
  {
   "cell_type": "markdown",
   "metadata": {},
   "source": [
    "# Google ML Sandbox Project"
   ]
  },
  {
   "cell_type": "code",
   "execution_count": 1,
   "metadata": {
    "collapsed": true
   },
   "outputs": [],
   "source": [
    "import matplotlib.pyplot as plt\n",
    "import numpy as np\n",
    "import pandas as pd\n",
    "import tensorflow as tf\n",
    "import math\n",
    "tf.logging.set_verbosity(tf.logging.ERROR)\n",
    "\n",
    "import importlib.util\n",
    "spec = importlib.util.spec_from_file_location(\"gml_util.name\", \"source/gml_util.py\")\n",
    "util = importlib.util.module_from_spec(spec)\n",
    "spec.loader.exec_module(util)\n",
    "\n",
    "%matplotlib inline"
   ]
  },
  {
   "cell_type": "markdown",
   "metadata": {},
   "source": [
    "## 1. Import Data"
   ]
  },
  {
   "cell_type": "code",
   "execution_count": 2,
   "metadata": {
    "scrolled": true
   },
   "outputs": [
    {
     "data": {
      "text/html": [
       "<div>\n",
       "<style>\n",
       "    .dataframe thead tr:only-child th {\n",
       "        text-align: right;\n",
       "    }\n",
       "\n",
       "    .dataframe thead th {\n",
       "        text-align: left;\n",
       "    }\n",
       "\n",
       "    .dataframe tbody tr th {\n",
       "        vertical-align: top;\n",
       "    }\n",
       "</style>\n",
       "<table border=\"1\" class=\"dataframe\">\n",
       "  <thead>\n",
       "    <tr style=\"text-align: right;\">\n",
       "      <th></th>\n",
       "      <th>num_critic_for_reviews</th>\n",
       "      <th>duration</th>\n",
       "      <th>director_facebook_likes</th>\n",
       "      <th>actor_3_facebook_likes</th>\n",
       "      <th>actor_1_facebook_likes</th>\n",
       "      <th>gross</th>\n",
       "      <th>num_voted_users</th>\n",
       "      <th>cast_total_facebook_likes</th>\n",
       "      <th>facenumber_in_poster</th>\n",
       "      <th>num_user_for_reviews</th>\n",
       "      <th>budget</th>\n",
       "      <th>title_year</th>\n",
       "      <th>actor_2_facebook_likes</th>\n",
       "      <th>imdb_score</th>\n",
       "      <th>aspect_ratio</th>\n",
       "      <th>movie_facebook_likes</th>\n",
       "    </tr>\n",
       "  </thead>\n",
       "  <tbody>\n",
       "    <tr>\n",
       "      <th>count</th>\n",
       "      <td>4993.000000</td>\n",
       "      <td>5028.000000</td>\n",
       "      <td>4939.000000</td>\n",
       "      <td>5020.000000</td>\n",
       "      <td>5036.000000</td>\n",
       "      <td>4.159000e+03</td>\n",
       "      <td>5.043000e+03</td>\n",
       "      <td>5043.000000</td>\n",
       "      <td>5030.000000</td>\n",
       "      <td>5022.000000</td>\n",
       "      <td>4.551000e+03</td>\n",
       "      <td>4935.000000</td>\n",
       "      <td>5030.000000</td>\n",
       "      <td>5043.000000</td>\n",
       "      <td>4714.000000</td>\n",
       "      <td>5043.000000</td>\n",
       "    </tr>\n",
       "    <tr>\n",
       "      <th>mean</th>\n",
       "      <td>140.194272</td>\n",
       "      <td>107.201074</td>\n",
       "      <td>686.509212</td>\n",
       "      <td>645.009761</td>\n",
       "      <td>6560.047061</td>\n",
       "      <td>4.846841e+07</td>\n",
       "      <td>8.366816e+04</td>\n",
       "      <td>9699.063851</td>\n",
       "      <td>1.371173</td>\n",
       "      <td>272.770808</td>\n",
       "      <td>3.975262e+07</td>\n",
       "      <td>2002.470517</td>\n",
       "      <td>1651.754473</td>\n",
       "      <td>6.442138</td>\n",
       "      <td>2.220403</td>\n",
       "      <td>7525.964505</td>\n",
       "    </tr>\n",
       "    <tr>\n",
       "      <th>std</th>\n",
       "      <td>121.601675</td>\n",
       "      <td>25.197441</td>\n",
       "      <td>2813.328607</td>\n",
       "      <td>1665.041728</td>\n",
       "      <td>15020.759120</td>\n",
       "      <td>6.845299e+07</td>\n",
       "      <td>1.384853e+05</td>\n",
       "      <td>18163.799124</td>\n",
       "      <td>2.013576</td>\n",
       "      <td>377.982886</td>\n",
       "      <td>2.061149e+08</td>\n",
       "      <td>12.474599</td>\n",
       "      <td>4042.438863</td>\n",
       "      <td>1.125116</td>\n",
       "      <td>1.385113</td>\n",
       "      <td>19320.445110</td>\n",
       "    </tr>\n",
       "    <tr>\n",
       "      <th>min</th>\n",
       "      <td>1.000000</td>\n",
       "      <td>7.000000</td>\n",
       "      <td>0.000000</td>\n",
       "      <td>0.000000</td>\n",
       "      <td>0.000000</td>\n",
       "      <td>1.620000e+02</td>\n",
       "      <td>5.000000e+00</td>\n",
       "      <td>0.000000</td>\n",
       "      <td>0.000000</td>\n",
       "      <td>1.000000</td>\n",
       "      <td>2.180000e+02</td>\n",
       "      <td>1916.000000</td>\n",
       "      <td>0.000000</td>\n",
       "      <td>1.600000</td>\n",
       "      <td>1.180000</td>\n",
       "      <td>0.000000</td>\n",
       "    </tr>\n",
       "    <tr>\n",
       "      <th>25%</th>\n",
       "      <td>50.000000</td>\n",
       "      <td>93.000000</td>\n",
       "      <td>7.000000</td>\n",
       "      <td>133.000000</td>\n",
       "      <td>614.000000</td>\n",
       "      <td>5.340988e+06</td>\n",
       "      <td>8.593500e+03</td>\n",
       "      <td>1411.000000</td>\n",
       "      <td>0.000000</td>\n",
       "      <td>65.000000</td>\n",
       "      <td>6.000000e+06</td>\n",
       "      <td>1999.000000</td>\n",
       "      <td>281.000000</td>\n",
       "      <td>5.800000</td>\n",
       "      <td>1.850000</td>\n",
       "      <td>0.000000</td>\n",
       "    </tr>\n",
       "    <tr>\n",
       "      <th>50%</th>\n",
       "      <td>110.000000</td>\n",
       "      <td>103.000000</td>\n",
       "      <td>49.000000</td>\n",
       "      <td>371.500000</td>\n",
       "      <td>988.000000</td>\n",
       "      <td>2.551750e+07</td>\n",
       "      <td>3.435900e+04</td>\n",
       "      <td>3090.000000</td>\n",
       "      <td>1.000000</td>\n",
       "      <td>156.000000</td>\n",
       "      <td>2.000000e+07</td>\n",
       "      <td>2005.000000</td>\n",
       "      <td>595.000000</td>\n",
       "      <td>6.600000</td>\n",
       "      <td>2.350000</td>\n",
       "      <td>166.000000</td>\n",
       "    </tr>\n",
       "    <tr>\n",
       "      <th>75%</th>\n",
       "      <td>195.000000</td>\n",
       "      <td>118.000000</td>\n",
       "      <td>194.500000</td>\n",
       "      <td>636.000000</td>\n",
       "      <td>11000.000000</td>\n",
       "      <td>6.230944e+07</td>\n",
       "      <td>9.630900e+04</td>\n",
       "      <td>13756.500000</td>\n",
       "      <td>2.000000</td>\n",
       "      <td>326.000000</td>\n",
       "      <td>4.500000e+07</td>\n",
       "      <td>2011.000000</td>\n",
       "      <td>918.000000</td>\n",
       "      <td>7.200000</td>\n",
       "      <td>2.350000</td>\n",
       "      <td>3000.000000</td>\n",
       "    </tr>\n",
       "    <tr>\n",
       "      <th>max</th>\n",
       "      <td>813.000000</td>\n",
       "      <td>511.000000</td>\n",
       "      <td>23000.000000</td>\n",
       "      <td>23000.000000</td>\n",
       "      <td>640000.000000</td>\n",
       "      <td>7.605058e+08</td>\n",
       "      <td>1.689764e+06</td>\n",
       "      <td>656730.000000</td>\n",
       "      <td>43.000000</td>\n",
       "      <td>5060.000000</td>\n",
       "      <td>1.221550e+10</td>\n",
       "      <td>2016.000000</td>\n",
       "      <td>137000.000000</td>\n",
       "      <td>9.500000</td>\n",
       "      <td>16.000000</td>\n",
       "      <td>349000.000000</td>\n",
       "    </tr>\n",
       "  </tbody>\n",
       "</table>\n",
       "</div>"
      ],
      "text/plain": [
       "       num_critic_for_reviews     duration  director_facebook_likes  \\\n",
       "count             4993.000000  5028.000000              4939.000000   \n",
       "mean               140.194272   107.201074               686.509212   \n",
       "std                121.601675    25.197441              2813.328607   \n",
       "min                  1.000000     7.000000                 0.000000   \n",
       "25%                 50.000000    93.000000                 7.000000   \n",
       "50%                110.000000   103.000000                49.000000   \n",
       "75%                195.000000   118.000000               194.500000   \n",
       "max                813.000000   511.000000             23000.000000   \n",
       "\n",
       "       actor_3_facebook_likes  actor_1_facebook_likes         gross  \\\n",
       "count             5020.000000             5036.000000  4.159000e+03   \n",
       "mean               645.009761             6560.047061  4.846841e+07   \n",
       "std               1665.041728            15020.759120  6.845299e+07   \n",
       "min                  0.000000                0.000000  1.620000e+02   \n",
       "25%                133.000000              614.000000  5.340988e+06   \n",
       "50%                371.500000              988.000000  2.551750e+07   \n",
       "75%                636.000000            11000.000000  6.230944e+07   \n",
       "max              23000.000000           640000.000000  7.605058e+08   \n",
       "\n",
       "       num_voted_users  cast_total_facebook_likes  facenumber_in_poster  \\\n",
       "count     5.043000e+03                5043.000000           5030.000000   \n",
       "mean      8.366816e+04                9699.063851              1.371173   \n",
       "std       1.384853e+05               18163.799124              2.013576   \n",
       "min       5.000000e+00                   0.000000              0.000000   \n",
       "25%       8.593500e+03                1411.000000              0.000000   \n",
       "50%       3.435900e+04                3090.000000              1.000000   \n",
       "75%       9.630900e+04               13756.500000              2.000000   \n",
       "max       1.689764e+06              656730.000000             43.000000   \n",
       "\n",
       "       num_user_for_reviews        budget   title_year  \\\n",
       "count           5022.000000  4.551000e+03  4935.000000   \n",
       "mean             272.770808  3.975262e+07  2002.470517   \n",
       "std              377.982886  2.061149e+08    12.474599   \n",
       "min                1.000000  2.180000e+02  1916.000000   \n",
       "25%               65.000000  6.000000e+06  1999.000000   \n",
       "50%              156.000000  2.000000e+07  2005.000000   \n",
       "75%              326.000000  4.500000e+07  2011.000000   \n",
       "max             5060.000000  1.221550e+10  2016.000000   \n",
       "\n",
       "       actor_2_facebook_likes   imdb_score  aspect_ratio  movie_facebook_likes  \n",
       "count             5030.000000  5043.000000   4714.000000           5043.000000  \n",
       "mean              1651.754473     6.442138      2.220403           7525.964505  \n",
       "std               4042.438863     1.125116      1.385113          19320.445110  \n",
       "min                  0.000000     1.600000      1.180000              0.000000  \n",
       "25%                281.000000     5.800000      1.850000              0.000000  \n",
       "50%                595.000000     6.600000      2.350000            166.000000  \n",
       "75%                918.000000     7.200000      2.350000           3000.000000  \n",
       "max             137000.000000     9.500000     16.000000         349000.000000  "
      ]
     },
     "execution_count": 2,
     "metadata": {},
     "output_type": "execute_result"
    }
   ],
   "source": [
    "raw_data = pd.read_csv(util.movie_data_path, sep=',', quotechar='\"')\n",
    "raw_data.describe()"
   ]
  },
  {
   "cell_type": "markdown",
   "metadata": {},
   "source": [
    "## 2. Data Overview"
   ]
  },
  {
   "cell_type": "code",
   "execution_count": 3,
   "metadata": {},
   "outputs": [
    {
     "name": "stdout",
     "output_type": "stream",
     "text": [
      "Data shape: (5043, 28)\n"
     ]
    }
   ],
   "source": [
    "util.print_data_shape(raw_data)"
   ]
  },
  {
   "cell_type": "code",
   "execution_count": 4,
   "metadata": {},
   "outputs": [
    {
     "name": "stdout",
     "output_type": "stream",
     "text": [
      " 0: color\n",
      " 1: director_name\n",
      " 2: num_critic_for_reviews\n",
      " 3: duration\n",
      " 4: director_facebook_likes\n",
      " 5: actor_3_facebook_likes\n",
      " 6: actor_2_name\n",
      " 7: actor_1_facebook_likes\n",
      " 8: gross\n",
      " 9: genres\n",
      "10: actor_1_name\n",
      "11: movie_title\n",
      "12: num_voted_users\n",
      "13: cast_total_facebook_likes\n",
      "14: actor_3_name\n",
      "15: facenumber_in_poster\n",
      "16: plot_keywords\n",
      "17: movie_imdb_link\n",
      "18: num_user_for_reviews\n",
      "19: language\n",
      "20: country\n",
      "21: content_rating\n",
      "22: budget\n",
      "23: title_year\n",
      "24: actor_2_facebook_likes\n",
      "25: imdb_score\n",
      "26: aspect_ratio\n",
      "27: movie_facebook_likes\n"
     ]
    }
   ],
   "source": [
    "for idx, feature_name in enumerate(raw_data.columns):\n",
    "    print('{0:2}: {1}'.format(idx, feature_name))"
   ]
  },
  {
   "cell_type": "markdown",
   "metadata": {},
   "source": [
    "## 3. Data Cleaning"
   ]
  },
  {
   "cell_type": "markdown",
   "metadata": {},
   "source": [
    "Shuffle data:"
   ]
  },
  {
   "cell_type": "code",
   "execution_count": 5,
   "metadata": {
    "collapsed": true
   },
   "outputs": [],
   "source": [
    "data = raw_data.reindex(np.random.permutation(raw_data.index))"
   ]
  },
  {
   "cell_type": "markdown",
   "metadata": {},
   "source": [
    "Clean inf and nan data points:"
   ]
  },
  {
   "cell_type": "code",
   "execution_count": 6,
   "metadata": {},
   "outputs": [
    {
     "name": "stdout",
     "output_type": "stream",
     "text": [
      "Cleaned data shape: (4935, 28)\n"
     ]
    }
   ],
   "source": [
    "data = util.clean(data)\n",
    "util.print_data_shape(data, 'Cleaned data')"
   ]
  },
  {
   "cell_type": "markdown",
   "metadata": {},
   "source": [
    "As mentioned in Important notes, point #6, some gross are denominated in other currencies to keep things simple, let's focus on American films => left with 3733 rows"
   ]
  },
  {
   "cell_type": "code",
   "execution_count": 7,
   "metadata": {},
   "outputs": [
    {
     "name": "stdout",
     "output_type": "stream",
     "text": [
      "USA only movie data shape: (3733, 28)\n"
     ]
    }
   ],
   "source": [
    "data = util.get_us_only(data)\n",
    "util.print_data_shape(data, 'USA only movie data')"
   ]
  },
  {
   "cell_type": "markdown",
   "metadata": {},
   "source": [
    "As mentioned in Important notes, point #3, there are around 800 \"0\"s in the \"gross\" attribute, remove those rows."
   ]
  },
  {
   "cell_type": "code",
   "execution_count": 8,
   "metadata": {},
   "outputs": [
    {
     "name": "stdout",
     "output_type": "stream",
     "text": [
      "Has gross record data shape: (3235, 28)\n"
     ]
    }
   ],
   "source": [
    "data = util.get_does_have_gross(data)\n",
    "util.print_data_shape(data, 'Has gross record data')"
   ]
  },
  {
   "cell_type": "markdown",
   "metadata": {},
   "source": [
    "## 4. Cleaned Data Overview"
   ]
  },
  {
   "cell_type": "code",
   "execution_count": 9,
   "metadata": {},
   "outputs": [
    {
     "data": {
      "text/plain": [
       "count    3235.000000\n",
       "mean     2003.169706\n",
       "std         9.935037\n",
       "min      1920.000000\n",
       "25%      1999.000000\n",
       "50%      2005.000000\n",
       "75%      2010.000000\n",
       "max      2016.000000\n",
       "Name: title_year, dtype: float64"
      ]
     },
     "execution_count": 9,
     "metadata": {},
     "output_type": "execute_result"
    }
   ],
   "source": [
    "data['title_year'].describe()"
   ]
  },
  {
   "cell_type": "code",
   "execution_count": 10,
   "metadata": {},
   "outputs": [
    {
     "data": {
      "text/plain": [
       "count    3.235000e+03\n",
       "mean     5.521461e+07\n",
       "std      7.173312e+07\n",
       "min      7.030000e+02\n",
       "25%      1.011027e+07\n",
       "50%      3.217878e+07\n",
       "75%      7.214700e+07\n",
       "max      7.605058e+08\n",
       "Name: gross, dtype: float64"
      ]
     },
     "execution_count": 10,
     "metadata": {},
     "output_type": "execute_result"
    }
   ],
   "source": [
    "data['gross'].describe()"
   ]
  },
  {
   "cell_type": "markdown",
   "metadata": {},
   "source": [
    "Normalize gross, i.e. bring all gross revenue to 2016 assuming 4% annual inflation since 1920 the reality is more complicated https://inflationdata.com/Inflation/Inflation_Rate/Long_Term_Inflation.asp but I have to start somewhere... i.e. 4%"
   ]
  },
  {
   "cell_type": "code",
   "execution_count": 11,
   "metadata": {},
   "outputs": [
    {
     "data": {
      "text/plain": [
       "count    3.074000e+03\n",
       "mean     4.048499e+07\n",
       "std      1.645230e+08\n",
       "min     -2.631049e+08\n",
       "25%     -1.379435e+07\n",
       "50%      5.558011e+06\n",
       "75%      4.994008e+07\n",
       "max      4.054227e+09\n",
       "Name: adjusted_profit, dtype: float64"
      ]
     },
     "execution_count": 11,
     "metadata": {},
     "output_type": "execute_result"
    }
   ],
   "source": [
    "data['adjusted_profit'] = (data['gross'] - data['budget']) * 1.04**(2016 - data['title_year'])\n",
    "data['adjusted_profit'].describe()"
   ]
  },
  {
   "cell_type": "markdown",
   "metadata": {},
   "source": [
    "Print out the top 15 in terms of adjusted_profit for sanity checking"
   ]
  },
  {
   "cell_type": "code",
   "execution_count": 12,
   "metadata": {
    "scrolled": true
   },
   "outputs": [
    {
     "data": {
      "text/html": [
       "<div>\n",
       "<style>\n",
       "    .dataframe thead tr:only-child th {\n",
       "        text-align: right;\n",
       "    }\n",
       "\n",
       "    .dataframe thead th {\n",
       "        text-align: left;\n",
       "    }\n",
       "\n",
       "    .dataframe tbody tr th {\n",
       "        vertical-align: top;\n",
       "    }\n",
       "</style>\n",
       "<table border=\"1\" class=\"dataframe\">\n",
       "  <thead>\n",
       "    <tr style=\"text-align: right;\">\n",
       "      <th></th>\n",
       "      <th>gross</th>\n",
       "      <th>adjusted_profit</th>\n",
       "      <th>movie_title</th>\n",
       "      <th>plot_keywords</th>\n",
       "      <th>language</th>\n",
       "      <th>country</th>\n",
       "      <th>budget</th>\n",
       "      <th>title_year</th>\n",
       "      <th>imdb_score</th>\n",
       "    </tr>\n",
       "  </thead>\n",
       "  <tbody>\n",
       "    <tr>\n",
       "      <th>4449</th>\n",
       "      <td>184925485.0</td>\n",
       "      <td>4.054227e+09</td>\n",
       "      <td>Snow White and the Seven Dwarfs</td>\n",
       "      <td>dwarf|love|princess|queen|snow white</td>\n",
       "      <td>English</td>\n",
       "      <td>USA</td>\n",
       "      <td>2000000.0</td>\n",
       "      <td>1937.0</td>\n",
       "      <td>7.7</td>\n",
       "    </tr>\n",
       "    <tr>\n",
       "      <th>3970</th>\n",
       "      <td>198655278.0</td>\n",
       "      <td>3.989189e+09</td>\n",
       "      <td>Gone with the Wind</td>\n",
       "      <td>battle of the sexes|gallantry|honesty|indiffer...</td>\n",
       "      <td>English</td>\n",
       "      <td>USA</td>\n",
       "      <td>3977000.0</td>\n",
       "      <td>1939.0</td>\n",
       "      <td>8.2</td>\n",
       "    </tr>\n",
       "    <tr>\n",
       "      <th>3024</th>\n",
       "      <td>460935665.0</td>\n",
       "      <td>2.077068e+09</td>\n",
       "      <td>Star Wars: Episode IV - A New Hope</td>\n",
       "      <td>death star|empire|galactic war|princess|rebellion</td>\n",
       "      <td>English</td>\n",
       "      <td>USA</td>\n",
       "      <td>11000000.0</td>\n",
       "      <td>1977.0</td>\n",
       "      <td>8.7</td>\n",
       "    </tr>\n",
       "    <tr>\n",
       "      <th>3080</th>\n",
       "      <td>434949459.0</td>\n",
       "      <td>1.610496e+09</td>\n",
       "      <td>E.T. the Extra-Terrestrial</td>\n",
       "      <td>bicyclist|boy|doll|star wars reference|voice i...</td>\n",
       "      <td>English</td>\n",
       "      <td>USA</td>\n",
       "      <td>10500000.0</td>\n",
       "      <td>1982.0</td>\n",
       "      <td>7.9</td>\n",
       "    </tr>\n",
       "    <tr>\n",
       "      <th>1143</th>\n",
       "      <td>84300000.0</td>\n",
       "      <td>1.609740e+09</td>\n",
       "      <td>Pinocchio</td>\n",
       "      <td>boy|conscience|fairy|jiminy cricket|pinocchio</td>\n",
       "      <td>English</td>\n",
       "      <td>USA</td>\n",
       "      <td>2600000.0</td>\n",
       "      <td>1940.0</td>\n",
       "      <td>7.5</td>\n",
       "    </tr>\n",
       "    <tr>\n",
       "      <th>4225</th>\n",
       "      <td>76400000.0</td>\n",
       "      <td>1.460391e+09</td>\n",
       "      <td>Fantasia</td>\n",
       "      <td>apprentice|classical music|disney|mouse|orchestra</td>\n",
       "      <td>English</td>\n",
       "      <td>USA</td>\n",
       "      <td>2280000.0</td>\n",
       "      <td>1940.0</td>\n",
       "      <td>7.8</td>\n",
       "    </tr>\n",
       "    <tr>\n",
       "      <th>2917</th>\n",
       "      <td>260000000.0</td>\n",
       "      <td>1.258251e+09</td>\n",
       "      <td>Jaws</td>\n",
       "      <td>beach|blockbuster|fishing|great white shark|shark</td>\n",
       "      <td>English</td>\n",
       "      <td>USA</td>\n",
       "      <td>8000000.0</td>\n",
       "      <td>1975.0</td>\n",
       "      <td>8.0</td>\n",
       "    </tr>\n",
       "    <tr>\n",
       "      <th>3359</th>\n",
       "      <td>163214286.0</td>\n",
       "      <td>1.145703e+09</td>\n",
       "      <td>The Sound of Music</td>\n",
       "      <td>austria|children|governess|love|orchestral mus...</td>\n",
       "      <td>English</td>\n",
       "      <td>USA</td>\n",
       "      <td>8200000.0</td>\n",
       "      <td>1965.0</td>\n",
       "      <td>8.0</td>\n",
       "    </tr>\n",
       "    <tr>\n",
       "      <th>2051</th>\n",
       "      <td>290158751.0</td>\n",
       "      <td>1.116921e+09</td>\n",
       "      <td>Star Wars: Episode V - The Empire Strikes Back</td>\n",
       "      <td>duel|famous twist|rebel|rescue|snowy landscape</td>\n",
       "      <td>English</td>\n",
       "      <td>USA</td>\n",
       "      <td>18000000.0</td>\n",
       "      <td>1980.0</td>\n",
       "      <td>8.8</td>\n",
       "    </tr>\n",
       "    <tr>\n",
       "      <th>2916</th>\n",
       "      <td>204565000.0</td>\n",
       "      <td>1.061548e+09</td>\n",
       "      <td>The Exorcist</td>\n",
       "      <td>demonic possession|exorcism|exorcist|loss of i...</td>\n",
       "      <td>English</td>\n",
       "      <td>USA</td>\n",
       "      <td>8000000.0</td>\n",
       "      <td>1973.0</td>\n",
       "      <td>8.0</td>\n",
       "    </tr>\n",
       "    <tr>\n",
       "      <th>1536</th>\n",
       "      <td>309125409.0</td>\n",
       "      <td>1.009235e+09</td>\n",
       "      <td>Star Wars: Episode VI - Return of the Jedi</td>\n",
       "      <td>death star|emperor|empire|princess|rebel</td>\n",
       "      <td>English</td>\n",
       "      <td>USA</td>\n",
       "      <td>32500000.0</td>\n",
       "      <td>1983.0</td>\n",
       "      <td>8.4</td>\n",
       "    </tr>\n",
       "    <tr>\n",
       "      <th>26</th>\n",
       "      <td>658672302.0</td>\n",
       "      <td>9.663534e+08</td>\n",
       "      <td>Titanic</td>\n",
       "      <td>artist|love|ship|titanic|wet</td>\n",
       "      <td>English</td>\n",
       "      <td>USA</td>\n",
       "      <td>200000000.0</td>\n",
       "      <td>1997.0</td>\n",
       "      <td>7.7</td>\n",
       "    </tr>\n",
       "    <tr>\n",
       "      <th>509</th>\n",
       "      <td>422783777.0</td>\n",
       "      <td>8.953169e+08</td>\n",
       "      <td>The Lion King</td>\n",
       "      <td>king|prince|scar|uncle|unnecessary guilt</td>\n",
       "      <td>English</td>\n",
       "      <td>USA</td>\n",
       "      <td>45000000.0</td>\n",
       "      <td>1994.0</td>\n",
       "      <td>8.5</td>\n",
       "    </tr>\n",
       "    <tr>\n",
       "      <th>2152</th>\n",
       "      <td>242374454.0</td>\n",
       "      <td>8.854016e+08</td>\n",
       "      <td>Raiders of the Lost Ark</td>\n",
       "      <td>archeological dig|archeologist|ark of the cove...</td>\n",
       "      <td>English</td>\n",
       "      <td>USA</td>\n",
       "      <td>18000000.0</td>\n",
       "      <td>1981.0</td>\n",
       "      <td>8.5</td>\n",
       "    </tr>\n",
       "    <tr>\n",
       "      <th>3668</th>\n",
       "      <td>159600000.0</td>\n",
       "      <td>8.322163e+08</td>\n",
       "      <td>The Sting</td>\n",
       "      <td>con|con man|courier|long con|murder</td>\n",
       "      <td>English</td>\n",
       "      <td>USA</td>\n",
       "      <td>5500000.0</td>\n",
       "      <td>1973.0</td>\n",
       "      <td>8.3</td>\n",
       "    </tr>\n",
       "  </tbody>\n",
       "</table>\n",
       "</div>"
      ],
      "text/plain": [
       "            gross  adjusted_profit  \\\n",
       "4449  184925485.0     4.054227e+09   \n",
       "3970  198655278.0     3.989189e+09   \n",
       "3024  460935665.0     2.077068e+09   \n",
       "3080  434949459.0     1.610496e+09   \n",
       "1143   84300000.0     1.609740e+09   \n",
       "4225   76400000.0     1.460391e+09   \n",
       "2917  260000000.0     1.258251e+09   \n",
       "3359  163214286.0     1.145703e+09   \n",
       "2051  290158751.0     1.116921e+09   \n",
       "2916  204565000.0     1.061548e+09   \n",
       "1536  309125409.0     1.009235e+09   \n",
       "26    658672302.0     9.663534e+08   \n",
       "509   422783777.0     8.953169e+08   \n",
       "2152  242374454.0     8.854016e+08   \n",
       "3668  159600000.0     8.322163e+08   \n",
       "\n",
       "                                          movie_title  \\\n",
       "4449                 Snow White and the Seven Dwarfs    \n",
       "3970                              Gone with the Wind    \n",
       "3024              Star Wars: Episode IV - A New Hope    \n",
       "3080                      E.T. the Extra-Terrestrial    \n",
       "1143                                       Pinocchio    \n",
       "4225                                        Fantasia    \n",
       "2917                                            Jaws    \n",
       "3359                              The Sound of Music    \n",
       "2051  Star Wars: Episode V - The Empire Strikes Back    \n",
       "2916                                    The Exorcist    \n",
       "1536      Star Wars: Episode VI - Return of the Jedi    \n",
       "26                                           Titanic    \n",
       "509                                    The Lion King    \n",
       "2152                         Raiders of the Lost Ark    \n",
       "3668                                       The Sting    \n",
       "\n",
       "                                          plot_keywords language country  \\\n",
       "4449               dwarf|love|princess|queen|snow white  English     USA   \n",
       "3970  battle of the sexes|gallantry|honesty|indiffer...  English     USA   \n",
       "3024  death star|empire|galactic war|princess|rebellion  English     USA   \n",
       "3080  bicyclist|boy|doll|star wars reference|voice i...  English     USA   \n",
       "1143      boy|conscience|fairy|jiminy cricket|pinocchio  English     USA   \n",
       "4225  apprentice|classical music|disney|mouse|orchestra  English     USA   \n",
       "2917  beach|blockbuster|fishing|great white shark|shark  English     USA   \n",
       "3359  austria|children|governess|love|orchestral mus...  English     USA   \n",
       "2051     duel|famous twist|rebel|rescue|snowy landscape  English     USA   \n",
       "2916  demonic possession|exorcism|exorcist|loss of i...  English     USA   \n",
       "1536           death star|emperor|empire|princess|rebel  English     USA   \n",
       "26                         artist|love|ship|titanic|wet  English     USA   \n",
       "509            king|prince|scar|uncle|unnecessary guilt  English     USA   \n",
       "2152  archeological dig|archeologist|ark of the cove...  English     USA   \n",
       "3668                con|con man|courier|long con|murder  English     USA   \n",
       "\n",
       "           budget  title_year  imdb_score  \n",
       "4449    2000000.0      1937.0         7.7  \n",
       "3970    3977000.0      1939.0         8.2  \n",
       "3024   11000000.0      1977.0         8.7  \n",
       "3080   10500000.0      1982.0         7.9  \n",
       "1143    2600000.0      1940.0         7.5  \n",
       "4225    2280000.0      1940.0         7.8  \n",
       "2917    8000000.0      1975.0         8.0  \n",
       "3359    8200000.0      1965.0         8.0  \n",
       "2051   18000000.0      1980.0         8.8  \n",
       "2916    8000000.0      1973.0         8.0  \n",
       "1536   32500000.0      1983.0         8.4  \n",
       "26    200000000.0      1997.0         7.7  \n",
       "509    45000000.0      1994.0         8.5  \n",
       "2152   18000000.0      1981.0         8.5  \n",
       "3668    5500000.0      1973.0         8.3  "
      ]
     },
     "execution_count": 12,
     "metadata": {},
     "output_type": "execute_result"
    }
   ],
   "source": [
    "sorted = data.sort_values(by='adjusted_profit', ascending=False, axis=0).loc[:,['gross', 'adjusted_profit',\n",
    "       'movie_title', 'plot_keywords', 'language', 'country', 'budget', 'title_year', 'imdb_score']]\n",
    "sorted.head(15)"
   ]
  },
  {
   "cell_type": "code",
   "execution_count": 13,
   "metadata": {},
   "outputs": [
    {
     "name": "stdout",
     "output_type": "stream",
     "text": [
      "Cleaned data shape: (3235, 29)\n"
     ]
    }
   ],
   "source": [
    "util.print_data_shape(data, 'Cleaned data')"
   ]
  },
  {
   "cell_type": "code",
   "execution_count": 14,
   "metadata": {},
   "outputs": [
    {
     "data": {
      "text/plain": [
       "title_year                  -0.375180\n",
       "aspect_ratio                -0.086631\n",
       "facenumber_in_poster        -0.031801\n",
       "budget                      -0.031506\n",
       "actor_1_facebook_likes       0.006957\n",
       "cast_total_facebook_likes    0.025583\n",
       "actor_2_facebook_likes       0.033938\n",
       "actor_3_facebook_likes       0.057017\n",
       "director_facebook_likes      0.082494\n",
       "movie_facebook_likes         0.086606\n",
       "num_critic_for_reviews       0.092278\n",
       "duration                     0.140801\n",
       "num_user_for_reviews         0.234989\n",
       "imdb_score                   0.259685\n",
       "num_voted_users              0.335221\n",
       "gross                        0.515573\n",
       "adjusted_profit              1.000000\n",
       "Name: adjusted_profit, dtype: float64"
      ]
     },
     "execution_count": 14,
     "metadata": {},
     "output_type": "execute_result"
    }
   ],
   "source": [
    "correlation_data = data.copy()\n",
    "correlation_data.corr()['adjusted_profit'].sort_values()"
   ]
  },
  {
   "cell_type": "markdown",
   "metadata": {},
   "source": [
    "### Features Available before Movie Comes Out"
   ]
  },
  {
   "cell_type": "markdown",
   "metadata": {},
   "source": [
    "| Feature | Correlation |\n",
    "| :------| :------|\n",
    "| title_year  | -0.375 |\n",
    "| aspect_ratio  | -0.087 |\n",
    "| facenumber_in_poster  | -0.032 |\n",
    "| budget  | -0.032 |\n",
    "| actor_1_facebook_likes  | 0.007 |\n",
    "| cast_total_facebook_likes  | 0.026 |\n",
    "| actor_2_facebook_likes  | 0.034 |\n",
    "| actor_3_facebook_likes  | 0.057 |\n",
    "| director_facebook_likes  | 0.082 |\n",
    "| movie_facebook_likes  | 0.087 |\n",
    "| duration  | 0.141 |"
   ]
  },
  {
   "cell_type": "markdown",
   "metadata": {},
   "source": [
    "## 5. Train Model"
   ]
  },
  {
   "cell_type": "code",
   "execution_count": 15,
   "metadata": {
    "collapsed": true
   },
   "outputs": [],
   "source": [
    "k_sample_size = 2500\n",
    "data = data.reindex(np.random.permutation(data.index))\n",
    "data = data.fillna(0)\n",
    "x = util.filtered_available_features(data)\n",
    "y = util.get_targets(data)\n",
    "x_train = x[:k_sample_size]\n",
    "y_train = y[:k_sample_size]\n",
    "x_cv = x[k_sample_size:]\n",
    "y_cv = y[k_sample_size:]"
   ]
  },
  {
   "cell_type": "code",
   "execution_count": 19,
   "metadata": {},
   "outputs": [
    {
     "name": "stdout",
     "output_type": "stream",
     "text": [
      "Training model...\n",
      "RMSE (on training data):\n",
      "  period 00 : 8627.57\n",
      "  period 01 : 8621.89\n",
      "  period 02 : 8667.76\n",
      "  period 03 : 8713.42\n",
      "  period 04 : 8658.07\n",
      "  period 05 : 8664.73\n",
      "  period 06 : 8672.61\n",
      "  period 07 : 8752.66\n",
      "  period 08 : 8724.53\n",
      "  period 09 : 8758.51\n",
      "Model training finished.\n"
     ]
    },
    {
     "data": {
      "text/plain": [
       "LinearRegressor(params={'feature_columns': {_RealValuedColumn(column_name='director_facebook_likes', dimension=1, default_value=None, dtype=tf.float32, normalizer=None), _RealValuedColumn(column_name='facenumber_in_poster', dimension=1, default_value=None, dtype=tf.float32, normalizer=None), _RealValuedColumn(column_name='cast_total_facebook_likes', dimension=1, default_value=None, dtype=tf.float32, normalizer=None), _RealValuedColumn(column_name='title_year', dimension=1, default_value=None, dtype=tf.float32, normalizer=None), _RealValuedColumn(column_name='duration', dimension=1, default_value=None, dtype=tf.float32, normalizer=None), _RealValuedColumn(column_name='actor_2_facebook_likes', dimension=1, default_value=None, dtype=tf.float32, normalizer=None), _RealValuedColumn(column_name='actor_3_facebook_likes', dimension=1, default_value=None, dtype=tf.float32, normalizer=None), _RealValuedColumn(column_name='actor_1_facebook_likes', dimension=1, default_value=None, dtype=tf.float32, normalizer=None)}, 'gradient_clip_norm': 5.0, 'joint_weights': False, 'optimizer': <tensorflow.python.training.gradient_descent.GradientDescentOptimizer object at 0x000002085941F198>, 'head': <tensorflow.contrib.learn.python.learn.estimators.head._RegressionHead object at 0x0000020A9EA7C710>})"
      ]
     },
     "execution_count": 19,
     "metadata": {},
     "output_type": "execute_result"
    },
    {
     "data": {
      "image/png": "[encoded data removed]",
      "text/plain": [
       "<matplotlib.figure.Figure at 0x20aaa1c8e48>"
      ]
     },
     "metadata": {},
     "output_type": "display_data"
    }
   ],
   "source": [
    "util.train_model(\n",
    "    target='adjusted_profit',\n",
    "    learning_rate=0.001,\n",
    "    steps=100,\n",
    "    batch_size=200,\n",
    "    training_examples=x_train,\n",
    "    training_targets=y_train,\n",
    "    validation_examples=x_cv,\n",
    "    validation_targets=y_cv)"
   ]
  },
  {
   "cell_type": "code",
   "execution_count": null,
   "metadata": {
    "collapsed": true
   },
   "outputs": [],
   "source": []
  }
 ],
 "metadata": {
  "kernelspec": {
   "display_name": "Python 3",
   "language": "python",
   "name": "python3"
  },
  "language_info": {
   "codemirror_mode": {
    "name": "ipython",
    "version": 3
   },
   "file_extension": ".py",
   "mimetype": "text/x-python",
   "name": "python",
   "nbconvert_exporter": "python",
   "pygments_lexer": "ipython3",
   "version": "3.5.4"
  }
 },
 "nbformat": 4,
 "nbformat_minor": 2
}
